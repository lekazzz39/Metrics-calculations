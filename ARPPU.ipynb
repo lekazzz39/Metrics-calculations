{
 "cells": [
  {
   "cell_type": "code",
   "execution_count": 2,
   "metadata": {},
   "outputs": [],
   "source": [
    "import pandas as pd\n",
    "from pandasql import sqldf\n",
    "import numpy as np "
   ]
  },
  {
   "cell_type": "code",
   "execution_count": 2,
   "metadata": {},
   "outputs": [],
   "source": [
    "# Есть табличка:\n",
    "# ts — время заказа\n",
    "# customer_id — айди юзера\n",
    "# revenue — сумма заказа\n",
    "\n",
    "# Нужно написать SQL-запрос, который отдаст ARPPU за каждый день (кумулятивно)."
   ]
  },
  {
   "cell_type": "code",
   "execution_count": 4,
   "metadata": {},
   "outputs": [],
   "source": [
    "user_purchases = pd.DataFrame() # Объявляю основной датафрейм\n",
    "day_counter = pd.to_datetime('2022-01-01') # Первая дата заказа\n",
    "end_date = pd.to_datetime('2022-01-31') # Последняя дата заказа\n",
    "user_id_offset = 100 # Счетчик для имитации притока"
   ]
  },
  {
   "cell_type": "code",
   "execution_count": 5,
   "metadata": {},
   "outputs": [],
   "source": [
    "# Генерация датафрейма заказов от 1го до 31го января\n",
    "\n",
    "while day_counter <= end_date:\n",
    "    all_user_ids = np.arange(1, user_id_offset) # Массив ID пользователей с учетом притока\n",
    "    daily_purchases_count = np.random.randint(80,120) # Случайное колличество заказов в день\n",
    "    times = pd.date_range(start = day_counter, periods=24, freq='1H') # Массив возможных значений времени заказа\n",
    "    \n",
    "    purchases=np.random.choice(times, daily_purchases_count) # Выбираем случайное время заказа\n",
    "    user_ids=np.random.choice(all_user_ids, daily_purchases_count) # Выбираем случайныйх пользователей \n",
    "    purchase_costs = np.random.uniform(low=1.5, high=100, size=daily_purchases_count) # Выбираем случайныйх пользователей\n",
    "\n",
    "    day_user_purchases = pd.DataFrame({'ts': purchases, \n",
    "                             'customer_id': user_ids, \n",
    "                             'revenue': purchase_costs}) #Собираем заказы за день\n",
    "\n",
    "    user_purchases = user_purchases.append(day_user_purchases, ignore_index=True) # Наполняем основнй датафрейм\n",
    "\n",
    "  \n",
    "    user_id_offset += 30 # Счетчик для имитации оттока/притока\n",
    "    day_counter = day_counter + pd.DateOffset(1) # Переходим к следующему дню"
   ]
  },
  {
   "cell_type": "code",
   "execution_count": 6,
   "metadata": {},
   "outputs": [
    {
     "data": {
      "text/html": [
       "<div>\n",
       "<style scoped>\n",
       "    .dataframe tbody tr th:only-of-type {\n",
       "        vertical-align: middle;\n",
       "    }\n",
       "\n",
       "    .dataframe tbody tr th {\n",
       "        vertical-align: top;\n",
       "    }\n",
       "\n",
       "    .dataframe thead th {\n",
       "        text-align: right;\n",
       "    }\n",
       "</style>\n",
       "<table border=\"1\" class=\"dataframe\">\n",
       "  <thead>\n",
       "    <tr style=\"text-align: right;\">\n",
       "      <th></th>\n",
       "      <th>ts</th>\n",
       "      <th>customer_id</th>\n",
       "      <th>revenue</th>\n",
       "    </tr>\n",
       "  </thead>\n",
       "  <tbody>\n",
       "    <tr>\n",
       "      <th>88</th>\n",
       "      <td>2022-01-01 00:00:00</td>\n",
       "      <td>58</td>\n",
       "      <td>87.65</td>\n",
       "    </tr>\n",
       "    <tr>\n",
       "      <th>21</th>\n",
       "      <td>2022-01-01 00:00:00</td>\n",
       "      <td>48</td>\n",
       "      <td>54.57</td>\n",
       "    </tr>\n",
       "    <tr>\n",
       "      <th>35</th>\n",
       "      <td>2022-01-01 00:00:00</td>\n",
       "      <td>60</td>\n",
       "      <td>66.30</td>\n",
       "    </tr>\n",
       "    <tr>\n",
       "      <th>64</th>\n",
       "      <td>2022-01-01 00:00:00</td>\n",
       "      <td>1</td>\n",
       "      <td>74.64</td>\n",
       "    </tr>\n",
       "    <tr>\n",
       "      <th>74</th>\n",
       "      <td>2022-01-01 00:00:00</td>\n",
       "      <td>1</td>\n",
       "      <td>82.11</td>\n",
       "    </tr>\n",
       "    <tr>\n",
       "      <th>...</th>\n",
       "      <td>...</td>\n",
       "      <td>...</td>\n",
       "      <td>...</td>\n",
       "    </tr>\n",
       "    <tr>\n",
       "      <th>3147</th>\n",
       "      <td>2022-01-31 22:00:00</td>\n",
       "      <td>154</td>\n",
       "      <td>26.18</td>\n",
       "    </tr>\n",
       "    <tr>\n",
       "      <th>3097</th>\n",
       "      <td>2022-01-31 22:00:00</td>\n",
       "      <td>436</td>\n",
       "      <td>12.28</td>\n",
       "    </tr>\n",
       "    <tr>\n",
       "      <th>3121</th>\n",
       "      <td>2022-01-31 23:00:00</td>\n",
       "      <td>48</td>\n",
       "      <td>97.11</td>\n",
       "    </tr>\n",
       "    <tr>\n",
       "      <th>3128</th>\n",
       "      <td>2022-01-31 23:00:00</td>\n",
       "      <td>200</td>\n",
       "      <td>55.42</td>\n",
       "    </tr>\n",
       "    <tr>\n",
       "      <th>3155</th>\n",
       "      <td>2022-01-31 23:00:00</td>\n",
       "      <td>757</td>\n",
       "      <td>41.39</td>\n",
       "    </tr>\n",
       "  </tbody>\n",
       "</table>\n",
       "<p>3167 rows × 3 columns</p>\n",
       "</div>"
      ],
      "text/plain": [
       "                      ts  customer_id  revenue\n",
       "88   2022-01-01 00:00:00           58    87.65\n",
       "21   2022-01-01 00:00:00           48    54.57\n",
       "35   2022-01-01 00:00:00           60    66.30\n",
       "64   2022-01-01 00:00:00            1    74.64\n",
       "74   2022-01-01 00:00:00            1    82.11\n",
       "...                  ...          ...      ...\n",
       "3147 2022-01-31 22:00:00          154    26.18\n",
       "3097 2022-01-31 22:00:00          436    12.28\n",
       "3121 2022-01-31 23:00:00           48    97.11\n",
       "3128 2022-01-31 23:00:00          200    55.42\n",
       "3155 2022-01-31 23:00:00          757    41.39\n",
       "\n",
       "[3167 rows x 3 columns]"
      ]
     },
     "execution_count": 6,
     "metadata": {},
     "output_type": "execute_result"
    }
   ],
   "source": [
    "# Сортируем и округляем\n",
    "user_purchases = user_purchases.sort_values(by = 'ts')\n",
    "user_purchases['revenue'] = user_purchases['revenue'].round(2)\n",
    "user_purchases"
   ]
  },
  {
   "cell_type": "code",
   "execution_count": 26,
   "metadata": {},
   "outputs": [],
   "source": [
    "# Запрос для оценки общей динамики ARPPU по дням\n",
    "q = \"\"\"\n",
    "with \n",
    "active_customers as (\n",
    "    select b.dt, avg(b.active_customers_cum) as active_customers_cum from (\n",
    "        select a.dt, count(*) over(order by a.dt) as active_customers_cum from (\n",
    "            select customer_id, date(min(ts)) as dt from user_purchases\n",
    "            group by customer_id\n",
    "        ) a\n",
    "    ) b\n",
    "    group by b.dt\n",
    "),\n",
    "\n",
    "money as (\n",
    "        select\n",
    "            distinct  \n",
    "                date(ts) as dt,\n",
    "                sum(revenue) over(order by date(ts)) as revenue_cum\n",
    "        from user_purchases\n",
    ")\n",
    "\n",
    "\n",
    "SELECT\n",
    "    money.dt,\n",
    "    revenue_cum / active_customers_cum ARPPU\n",
    "from money\n",
    "inner join active_customers on active_customers.dt = money.dt;\"\"\"\n",
    "df_dynamic = sqldf(q)"
   ]
  },
  {
   "cell_type": "code",
   "execution_count": 27,
   "metadata": {},
   "outputs": [
    {
     "data": {
      "text/plain": [
       "<AxesSubplot:>"
      ]
     },
     "execution_count": 27,
     "metadata": {},
     "output_type": "execute_result"
    },
    {
     "data": {
      "image/png": "[encoded data removed]",
      "text/plain": [
       "<Figure size 432x288 with 1 Axes>"
      ]
     },
     "metadata": {
      "needs_background": "light"
     },
     "output_type": "display_data"
    }
   ],
   "source": [
    "df_dynamic['ARPPU'].plot()"
   ]
  },
  {
   "cell_type": "code",
   "execution_count": 30,
   "metadata": {},
   "outputs": [
    {
     "data": {
      "text/html": [
       "<div>\n",
       "<style scoped>\n",
       "    .dataframe tbody tr th:only-of-type {\n",
       "        vertical-align: middle;\n",
       "    }\n",
       "\n",
       "    .dataframe tbody tr th {\n",
       "        vertical-align: top;\n",
       "    }\n",
       "\n",
       "    .dataframe thead th {\n",
       "        text-align: right;\n",
       "    }\n",
       "</style>\n",
       "<table border=\"1\" class=\"dataframe\">\n",
       "  <thead>\n",
       "    <tr style=\"text-align: right;\">\n",
       "      <th></th>\n",
       "      <th>dt</th>\n",
       "      <th>revenue_cum</th>\n",
       "    </tr>\n",
       "  </thead>\n",
       "  <tbody>\n",
       "    <tr>\n",
       "      <th>0</th>\n",
       "      <td>2022-01-01</td>\n",
       "      <td>6135.44</td>\n",
       "    </tr>\n",
       "    <tr>\n",
       "      <th>1</th>\n",
       "      <td>2022-01-01</td>\n",
       "      <td>6135.44</td>\n",
       "    </tr>\n",
       "    <tr>\n",
       "      <th>2</th>\n",
       "      <td>2022-01-01</td>\n",
       "      <td>6135.44</td>\n",
       "    </tr>\n",
       "    <tr>\n",
       "      <th>3</th>\n",
       "      <td>2022-01-01</td>\n",
       "      <td>6135.44</td>\n",
       "    </tr>\n",
       "    <tr>\n",
       "      <th>4</th>\n",
       "      <td>2022-01-01</td>\n",
       "      <td>6135.44</td>\n",
       "    </tr>\n",
       "    <tr>\n",
       "      <th>...</th>\n",
       "      <td>...</td>\n",
       "      <td>...</td>\n",
       "    </tr>\n",
       "    <tr>\n",
       "      <th>3162</th>\n",
       "      <td>2022-01-31</td>\n",
       "      <td>158184.16</td>\n",
       "    </tr>\n",
       "    <tr>\n",
       "      <th>3163</th>\n",
       "      <td>2022-01-31</td>\n",
       "      <td>158184.16</td>\n",
       "    </tr>\n",
       "    <tr>\n",
       "      <th>3164</th>\n",
       "      <td>2022-01-31</td>\n",
       "      <td>158184.16</td>\n",
       "    </tr>\n",
       "    <tr>\n",
       "      <th>3165</th>\n",
       "      <td>2022-01-31</td>\n",
       "      <td>158184.16</td>\n",
       "    </tr>\n",
       "    <tr>\n",
       "      <th>3166</th>\n",
       "      <td>2022-01-31</td>\n",
       "      <td>158184.16</td>\n",
       "    </tr>\n",
       "  </tbody>\n",
       "</table>\n",
       "<p>3167 rows × 2 columns</p>\n",
       "</div>"
      ],
      "text/plain": [
       "              dt  revenue_cum\n",
       "0     2022-01-01      6135.44\n",
       "1     2022-01-01      6135.44\n",
       "2     2022-01-01      6135.44\n",
       "3     2022-01-01      6135.44\n",
       "4     2022-01-01      6135.44\n",
       "...          ...          ...\n",
       "3162  2022-01-31    158184.16\n",
       "3163  2022-01-31    158184.16\n",
       "3164  2022-01-31    158184.16\n",
       "3165  2022-01-31    158184.16\n",
       "3166  2022-01-31    158184.16\n",
       "\n",
       "[3167 rows x 2 columns]"
      ]
     },
     "execution_count": 30,
     "metadata": {},
     "output_type": "execute_result"
    }
   ],
   "source": [
    "# Запрос для оценки общей динамики ARPPU по дням\n",
    "q = \"\"\"\n",
    "select \n",
    "        date(ts) as dt,\n",
    "        sum(revenue) over(order by date(ts)) as revenue_cum\n",
    "from user_purchases;\"\"\"\n",
    "sqldf(q)"
   ]
  },
  {
   "cell_type": "code",
   "execution_count": 31,
   "metadata": {},
   "outputs": [],
   "source": [
    "# Запрос для когортного анализа ARPPU например, по дате первого заказа\n",
    "q = \"\"\"SELECT\n",
    "\tdate(ts),\n",
    "\tsum (sum(revenue)/(SELECT count(a.customer_id)\n",
    "\tFROM (\n",
    "\t\tSELECT customer_id, min(date(ts)) as first_purchase from user_purchases GROUP BY customer_id\n",
    "\t\t) a\n",
    "\tWHERE a.first_purchase = '2022-01-01')) OVER (ORDER BY date(ts)) as ARPPU\n",
    "\n",
    "FROM user_purchases\n",
    "WHERE customer_id in (\n",
    "\tSELECT a.customer_id\n",
    "\tFROM (\n",
    "\t\tSELECT customer_id, min(date(ts)) as first_purchase from user_purchases GROUP BY customer_id\n",
    "\t\t) a\n",
    "\tWHERE a.first_purchase = '2022-01-01')\n",
    "GROUP BY date(ts);\"\"\"\n",
    "df_ARPU_cohort = sqldf(q)"
   ]
  },
  {
   "cell_type": "code",
   "execution_count": 32,
   "metadata": {},
   "outputs": [
    {
     "data": {
      "text/plain": [
       "<AxesSubplot:>"
      ]
     },
     "execution_count": 32,
     "metadata": {},
     "output_type": "execute_result"
    },
    {
     "data": {
      "image/png": "[encoded data removed]",
      "text/plain": [
       "<Figure size 432x288 with 1 Axes>"
      ]
     },
     "metadata": {
      "needs_background": "light"
     },
     "output_type": "display_data"
    }
   ],
   "source": [
    "df_ARPU_cohort['ARPPU'].plot()"
   ]
  }
 ],
 "metadata": {
  "interpreter": {
   "hash": "61a57a4b5406d2de388e2f91097d4e4bcd7d5f4a46f53a795aa28a02eed27fc5"
  },
  "kernelspec": {
   "display_name": "Python 3.9.7 ('base': conda)",
   "language": "python",
   "name": "python3"
  },
  "language_info": {
   "codemirror_mode": {
    "name": "ipython",
    "version": 3
   },
   "file_extension": ".py",
   "mimetype": "text/x-python",
   "name": "python",
   "nbconvert_exporter": "python",
   "pygments_lexer": "ipython3",
   "version": "3.9.7"
  },
  "orig_nbformat": 4
 },
 "nbformat": 4,
 "nbformat_minor": 2
}
